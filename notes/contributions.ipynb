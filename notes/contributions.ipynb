{
 "cells": [
  {
   "cell_type": "markdown",
   "metadata": {},
   "source": [
    "# Contributing to QuSpin:\n",
    "## Table of Contents:\n",
    " 1. General layout of package\n",
    " 2. guidelines to adding to operator types\n",
    " 3. guidelines to adding to basis types\n",
    " 4. guidelines to adding to tools module\n",
    " \n",
    " ## 1. General layout of package\n",
    " \n",
    " ## 2. guidelines to adding to operator types\n",
    " \n",
    " ## 3. guidelines to adding to basis types\n",
    " \n",
    " ## 4. guidelines to adding to tools module"
   ]
  }
 ],
 "metadata": {
  "anaconda-cloud": {},
  "kernelspec": {
   "display_name": "Python [conda root]",
   "language": "python",
   "name": "conda-root-py"
  },
  "language_info": {
   "codemirror_mode": {
    "name": "ipython",
    "version": 2
   },
   "file_extension": ".py",
   "mimetype": "text/x-python",
   "name": "python",
   "nbconvert_exporter": "python",
   "pygments_lexer": "ipython2",
   "version": "2.7.12"
  }
 },
 "nbformat": 4,
 "nbformat_minor": 2
}
