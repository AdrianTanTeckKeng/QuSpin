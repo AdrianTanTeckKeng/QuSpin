{
 "cells": [
  {
   "cell_type": "markdown",
   "metadata": {},
   "source": [
    "### Coding the Bose-Hubbard Hamiltonian with QuSpin\n",
    "\n",
    "The purpose of this tutorial is to teach the interested user to construct bosonic Hamiltonians using QuSpin. To this end, below we focus on the Bose-Hubbard model (BHM) of a 1d chain. The Hamiltonian is\n",
    "$$ H = -J\\sum_{j=0}^{L-1}(b^\\dagger_{j+1}b_j + \\mathrm{h.c.})-\\mu\\sum_{j=0}^{L-1} n_j + \\frac{U}{2}\\sum_{j=0}^{L-1}n_j(n_j-1)$$\n",
    "where $J$ is the hopping matrix element, $\\mu$ -- the chemical potential, and $U$ -- the interaction strength. We label the lattice sites by $j=0,\\dots,L-1$, and use periodic boundary conditions.\n",
    "\n",
    "First, we load the required packages:"
   ]
  },
  {
   "cell_type": "code",
   "execution_count": 11,
   "metadata": {
    "collapsed": true
   },
   "outputs": [],
   "source": [
    "from quspin.operators import hamiltonian # Hamiltonians and operators\n",
    "from quspin.basis import boson_basis_1d # Hilbert space boson basis\n",
    "import numpy as np # generic math functions"
   ]
  },
  {
   "cell_type": "markdown",
   "metadata": {},
   "source": [
    "Next, we define the model parameters:"
   ]
  },
  {
   "cell_type": "code",
   "execution_count": 12,
   "metadata": {
    "collapsed": true
   },
   "outputs": [],
   "source": [
    "##### define model parameters #####\n",
    "L=6 # system size\n",
    "J=1.0 # hopping\n",
    "U=np.sqrt(2.0) # interaction\n",
    "mu=0.0 # chemical potential"
   ]
  },
  {
   "cell_type": "markdown",
   "metadata": {},
   "source": [
    "In order to construct the Hamiltonian of the BHM, we need to construct the bosonic basis. This is done with the help of the constructor `boson_basis_1d`. The first required argument is the chain length `L`. As an optional argument one can also specify the number of bosons in the chain `Nb`. We print the basis using the `print()` function."
   ]
  },
  {
   "cell_type": "code",
   "execution_count": 13,
   "metadata": {
    "collapsed": false
   },
   "outputs": [],
   "source": [
    "##### construct Bose-Hubbard Hamiltonian #####\n",
    "# define boson basis with 3 states per site L bosons in the lattice\n",
    "basis = boson_basis_1d(L,Nb=L) # full boson basis\n",
    "#print(basis)"
   ]
  },
  {
   "cell_type": "markdown",
   "metadata": {},
   "source": [
    "If needed, we can specify the on-site bosonic Hilbert space dimension, i.e. the number of states per site, using the flag `sps=int`. This can help study larger systems of they are dilute."
   ]
  },
  {
   "cell_type": "code",
   "execution_count": 14,
   "metadata": {
    "collapsed": false
   },
   "outputs": [],
   "source": [
    "basis = boson_basis_1d(L,Nb=L,sps=3) # particle-conserving basis, 3 states per site\n",
    "#print(basis)"
   ]
  },
  {
   "cell_type": "markdown",
   "metadata": {},
   "source": [
    "Often times, the model under consideration has underlying symmetries. For instance, translation invariance, parity (reflection symmetry), etc. QuSpin allows the user to construct Hamiltonians in symmetry-reduced subspaces. This is done using optional arguments (flags) passed to the basis constructor. \n",
    "\n",
    "For instance, if we want to construct the basis in the $k=0$ many-body momentum sector, we do this using the flag `kblock=int`. This specifies the many-body momentum of the state via $k=2\\pi/L\\times\\texttt{kblock}$.\n",
    "\n",
    "Whenever symmetries are present, the `print()` function returns one representative from which one can obtain all 'missing' states by applying the corresponding symmetry operator. It is important to note that, physically, this representative state stands for the linear combination of vectors in the class, not the state that is displayed by `print(basis)`. "
   ]
  },
  {
   "cell_type": "code",
   "execution_count": 15,
   "metadata": {
    "collapsed": false
   },
   "outputs": [],
   "source": [
    "basis = boson_basis_1d(L,Nb=L,sps=3,kblock=0) # ... and zero momentum sector\n",
    "#print(basis)"
   ]
  },
  {
   "cell_type": "markdown",
   "metadata": {},
   "source": [
    "Additionally, the BHM features reflection symmetry around the middle of the chain. This symmetry block-diagonalises the Hamiltonian into two blocks, corresponding to the negative and positive eigenvalue of the parity operator. The corresponding flag is `pblock=+1,-1`."
   ]
  },
  {
   "cell_type": "code",
   "execution_count": 16,
   "metadata": {
    "collapsed": false
   },
   "outputs": [],
   "source": [
    "basis = boson_basis_1d(L,Nb=L,sps=3,kblock=0,pblock=1) # ... + zero momentum and positive parity\n",
    "#print(basis)"
   ]
  },
  {
   "cell_type": "markdown",
   "metadata": {},
   "source": [
    "Now that we have constructed the basis in the symmetry-reduced Hilbert space, we can construct the Hamiltonian. It will be hepful to cast it in the fllowing form:\n",
    "\n",
    "$$H= -J\\sum_{j=0}^{L-1}(b^\\dagger_{j+1}b_j + \\mathrm{h.c.})-\\left(\\mu+\\frac{U}{2}\\right)\\sum_{j=0}^{L-1} n_j + \\frac{U}{2}\\sum_{j=0}^{L-1}n_jn_j $$\n",
    "\n",
    "We start by defining the site-coupling lists. Suppose we would like to define the operator $\\sum_j \\mu_j n_j$. To this, end, we can focus on a single summand first, e.g. $2.71 n_{j=3}$. The information encoded in this operator can be summarised as follows:\n",
    "\n",
    "* the coupling strength is $\\mu_{j=3}=2.71$ (site-coupling lists),\n",
    "* the operator acts on site $j=3$ (site-coupling lists),\n",
    "* the operator is the density $n$ (operator-string, static/dynamic lists)\n",
    "\n",
    "In QuSpin, the first two points are grouped together, defininging a list `[mu_j,j]=[2.71,3]`, while the type of operator we specify a bit later (see parantheses). We call this a site-couling list. Summing over multiple sites then results in a nested list of lists:"
   ]
  },
  {
   "cell_type": "code",
   "execution_count": 17,
   "metadata": {
    "collapsed": false
   },
   "outputs": [],
   "source": [
    "# define site-coupling lists\n",
    "hop=[[-J,i,(i+1)%L] for i in range(L)] #PBC\n",
    "interact=[[0.5*U,i,i] for i in range(L)] # U/2 \\sum_j n_j n_j\n",
    "pot=[[-mu-0.5*U,i] for i in range(L)] # -(\\mu + U/2) \\sum_j j_n\n",
    "\n",
    "#print(hop)\n",
    "#print(interact)\n",
    "#print(pot)"
   ]
  },
  {
   "cell_type": "markdown",
   "metadata": {},
   "source": [
    "The site coupling lists specify the sites on which the operators act, yet we need to tell QuSpin which operators are to act on these (pairs of) sites. Thus, we need the following operator strings which enter the static and dynamic lists used to define the Hamiltonian. Since the BHM is time-independent, we use an empty dynamic list"
   ]
  },
  {
   "cell_type": "code",
   "execution_count": 18,
   "metadata": {
    "collapsed": true
   },
   "outputs": [],
   "source": [
    "# define static and dynamic lists\n",
    "static=[['+-',hop],['-+',hop],['n',pot],['nn',interact]]\n",
    "dynamic=[]"
   ]
  },
  {
   "cell_type": "markdown",
   "metadata": {},
   "source": [
    "Building the Hamiltonian with QuSpin is now a one-liner using the `hamiltonian` constructor"
   ]
  },
  {
   "cell_type": "code",
   "execution_count": 19,
   "metadata": {
    "collapsed": false
   },
   "outputs": [
    {
     "name": "stdout",
     "output_type": "stream",
     "text": [
      "Hermiticity check passed!\n",
      "Symmetry checks passed!\n",
      "Particle conservation check passed!\n"
     ]
    }
   ],
   "source": [
    "# build Hamiltonian\n",
    "H=hamiltonian(static,dynamic,basis=basis,dtype=np.float64)"
   ]
  },
  {
   "cell_type": "markdown",
   "metadata": {},
   "source": [
    "when the Hamiltonian is constructed, we see three messages saying that it passes three type of symmetries. QuSpin does checks under the hood on the `static` and `dynamic` lists to determine if they satisfy the requested symmetries in the `basis`. They can be disabled by parsing the following flags to the `hamiltonian` constructor: `check_pcon=False`, `check_symm=False` and `check_herm=False`.\n",
    "\n",
    "We can now diagonalise `H`, and e.g. calculate the entanglement entropy of the ground state."
   ]
  },
  {
   "cell_type": "code",
   "execution_count": 20,
   "metadata": {
    "collapsed": false
   },
   "outputs": [
    {
     "name": "stdout",
     "output_type": "stream",
     "text": [
      "GS entanglement per site is 0.204\n"
     ]
    }
   ],
   "source": [
    "# calculate eigensystem\n",
    "E,V=H.eigh()\n",
    "E_GS,V_GS=H.eigsh(k=2,which='SA',maxiter=1E10) # only GS\n",
    "#print(\"eigenenergies:\", E)\n",
    "#print(\"GS energy is %0.3f\" %(E_GS[0]))\n",
    "# calculate entanglement entropy per site of GS\n",
    "subsystem=[i for i in range(L//2)] # sites contained in subsystem\n",
    "Sent=basis.ent_entropy(V[:,0],sub_sys_A=subsystem)['Sent_A']/L\n",
    "print(\"GS entanglement per site is %0.3f\" %(Sent))\n"
   ]
  }
 ],
 "metadata": {
  "anaconda-cloud": {},
  "kernelspec": {
   "display_name": "Python [Root]",
   "language": "python",
   "name": "Python [Root]"
  },
  "language_info": {
   "codemirror_mode": {
    "name": "ipython",
    "version": 2
   },
   "file_extension": ".py",
   "mimetype": "text/x-python",
   "name": "python",
   "nbconvert_exporter": "python",
   "pygments_lexer": "ipython2",
   "version": "2.7.13"
  }
 },
 "nbformat": 4,
 "nbformat_minor": 0
}
