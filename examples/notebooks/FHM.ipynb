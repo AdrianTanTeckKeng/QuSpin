{
 "cells": [
  {
   "cell_type": "markdown",
   "metadata": {},
   "source": [
    "### The Fermi-Hubbard Model\n",
    "\n",
    "This notebook shows how to use the `tensor_basis` constructor to build the Hamiltonian of interacting spinful fermions in 1d, desctibed by the Fermi-Hubbard model (FHM):\n",
    "$$H = -J\\sum_{i=0,\\sigma}^{L-1} \\left(c^\\dagger_{i\\sigma}c_{i+1,\\sigma} - c_{i\\sigma}c^\\dagger_{i+1,\\sigma}\\right) - \\mu\\sum_{i=0,\\sigma}^{L-1} n_{i\\sigma}  +U\\sum_{i=0}^{L-1} n_{i\\uparrow }n_{i\\downarrow } $$\n",
    "where $J$ is the hopping matrix element, $\\mu$: the chemical potential, and $U$ -- the onsite $s$-wave interaction. \n",
    "\n",
    "We begin by loading the libraries and defining the model parameters:"
   ]
  },
  {
   "cell_type": "code",
   "execution_count": 1,
   "metadata": {
    "collapsed": true
   },
   "outputs": [],
   "source": [
    "from quspin.operators import hamiltonian # Hamiltonians and operators\n",
    "from quspin.basis import fermion_basis_1d, tensor_basis # Hilbert space fermion and tensor bases\n",
    "import numpy as np # generic math functions\n",
    "##### define model parameters #####\n",
    "L=4 # system size\n",
    "J=1.0 # hopping\n",
    "U=np.sqrt(2.0) # interaction\n",
    "mu=0.0 # chemical potential"
   ]
  },
  {
   "cell_type": "markdown",
   "metadata": {},
   "source": [
    "To build the basis for spinful fermions, we take two copies of the basis for spinless fermions and tensor them using the `tensor_basis` constructor. While the `tensor_basis` can be used to tensor any two bases objects, it does not allow for passing symmetries, other than particle number conservation (we are currently working on developing a separate class which will allow using all symmetries for spinful fermions). \n",
    "\n",
    "To this end, we define the number of spin-up and spin-down fermions, and proceed as follows:"
   ]
  },
  {
   "cell_type": "code",
   "execution_count": 2,
   "metadata": {
    "collapsed": false
   },
   "outputs": [],
   "source": [
    "# define boson basis with 3 states per site L bosons in the lattice\n",
    "N_up = L//2 + L % 2 # number of fermions with spin up\n",
    "N_down = L//2 # number of fermions with spin down\n",
    "basis_up=fermion_basis_1d(L,Nf=N_up)\n",
    "basis_down=fermion_basis_1d(L,Nf=N_down)\n",
    "basis = tensor_basis(basis_up,basis_down) # spinful fermions\n",
    "#print(basis)"
   ]
  },
  {
   "cell_type": "markdown",
   "metadata": {},
   "source": [
    "Defining the site-coupling lists is the same as before (mind the signs in the fermion hopping operator, though!). \n",
    "\n",
    "The `tensor_basis` accepts extended operator strings. The idea is that within the subspace of each basis, we use the operator strings belonging to the corresponding underlying basis (for `fermion_basis_1d`, the allowed operators are `\"+\"`, `\"-\"`, `\"n\"`, and `\"I\"`). We then use a `...|...` to separate the operators that act on spin-up (left) and spin-down (right). \n",
    "\n",
    "For instance, the hopping operators $c_{j,\\uparrow}c^\\dagger_{j+1,\\uparrow}$ and $c_{j,\\downarrow}c^\\dagger_{j+1,\\downarrow}$ are represented as `'-+|I'` and `'I|-+'`, repsectively, where `'I'` stands for the identity (and can be dropped, see below). On the other hand, the spin-flip hopping process $c_{j,\\uparrow}c^\\dagger_{j+1,\\downarrow}$ would mix the spin-up and spin-down sectors and would take the form `'-|+'`."
   ]
  },
  {
   "cell_type": "code",
   "execution_count": 3,
   "metadata": {
    "collapsed": false
   },
   "outputs": [],
   "source": [
    "# define site-coupling lists\n",
    "hop_right=[[-J,i,(i+1)%L] for i in range(L)] #PBC\n",
    "hop_left= [[+J,i,(i+1)%L] for i in range(L)] #PBC \n",
    "pot=[[-mu,i] for i in range(L)] # -\\mu \\sum_j n_{j \\sigma}\n",
    "interact=[[U,i,i] for i in range(L)] # U/2 \\sum_j n_{j,up} n_{j,down}\n",
    "# define static and dynamic lists\n",
    "static=[\n",
    "        ['+-|',hop_left],  # up hops left\n",
    "        ['-+|',hop_right], # up hops right\n",
    "        ['|+-',hop_left],  # down hops left\n",
    "        ['|-+',hop_right], # down hops right\n",
    "        ['n|',pot],        # up on-site potention\n",
    "        ['|n',pot],        # down on-site potention\n",
    "        ['n|n',interact]   # up-down interaction\n",
    "                                ]\n",
    "dynamic=[]\n",
    "# build Hamiltonian\n",
    "no_checks = dict(check_pcon=False,check_symm=False,check_herm=False)\n",
    "H=hamiltonian(static,dynamic,basis=basis,dtype=np.float64,**no_checks)"
   ]
  },
  {
   "cell_type": "code",
   "execution_count": null,
   "metadata": {
    "collapsed": true
   },
   "outputs": [],
   "source": []
  }
 ],
 "metadata": {
  "kernelspec": {
   "display_name": "Python [Root]",
   "language": "python",
   "name": "Python [Root]"
  },
  "language_info": {
   "codemirror_mode": {
    "name": "ipython",
    "version": 2
   },
   "file_extension": ".py",
   "mimetype": "text/x-python",
   "name": "python",
   "nbconvert_exporter": "python",
   "pygments_lexer": "ipython2",
   "version": "2.7.12"
  }
 },
 "nbformat": 4,
 "nbformat_minor": 0
}
